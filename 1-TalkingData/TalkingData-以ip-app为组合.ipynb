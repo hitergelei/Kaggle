{
  "cells": [
    {
      "metadata": {
        "_uuid": "8f2839f25d086af736a60e9eeb907d3b93b6e0e5",
        "_cell_guid": "b1076dfc-b9ad-4769-8c92-a6c4dae69d19",
        "trusted": true,
        "_kg_hide-input": false,
        "_kg_hide-output": false
      },
      "cell_type": "code",
      "source": "# This Python 3 environment comes with many helpful analytics libraries installed\n# It is defined by the kaggle/python docker image: https://github.com/kaggle/docker-python\n# For example, here's several helpful packages to load in \n\nimport gc\nimport time\nimport numpy as np\nimport pandas as pd\nfrom sklearn.model_selection  import train_test_split\nimport xgboost as xgb\nfrom xgboost import plot_importance\nimport matplotlib.pyplot as plt\n\n# Input data files are available in the \"../input/\" directory.\n# For example, running this (by clicking run or pressing Shift+Enter) will list the files in the input directory\n\nimport os\nprint(os.listdir(\"../input\"))\n\n# Any results you write to the current directory are saved as output.",
      "execution_count": 1,
      "outputs": [
        {
          "output_type": "stream",
          "text": "['test_supplement.csv', 'train_sample.csv', 'train.csv', 'sample_submission.csv', 'test.csv']\n",
          "name": "stdout"
        }
      ]
    },
    {
      "metadata": {
        "trusted": true,
        "_uuid": "836071a82a240e5983167b7c9070a9635fbd7a03"
      },
      "cell_type": "code",
      "source": "# 为什么train里没有attributed_time？从后面可以知道这一行缺失值太多了。故删除这列特征\ntrain_columns = ['ip', 'app', 'device', 'os', 'channel', 'click_time', 'is_attributed']\ntest_columns  = ['ip', 'app', 'device', 'os', 'channel', 'click_time', 'click_id']\n# 重新指定下数据内型，节省内存\ndtypes = {\n        'ip'            : 'uint32',\n        'app'           : 'uint16',\n        'device'        : 'uint16',\n        'os'            : 'uint16',\n        'channel'       : 'uint16',\n        'is_attributed' : 'uint8',\n        'click_id'      : 'uint32'\n        }",
      "execution_count": 2,
      "outputs": []
    },
    {
      "metadata": {
        "_cell_guid": "79c7e3d0-c299-4dcb-8224-4455121ee9b0",
        "_uuid": "d629ff2d2480ee46fbb7e2d37f6b5fab8052498a",
        "trusted": true
      },
      "cell_type": "code",
      "source": "train = pd.read_csv(\"../input/train_sample.csv\",dtype=dtypes)\ntrain.head()",
      "execution_count": 3,
      "outputs": [
        {
          "output_type": "execute_result",
          "execution_count": 3,
          "data": {
            "text/plain": "       ip  app      ...        attributed_time  is_attributed\n0   29540    3      ...                    NaN              0\n1   26777   11      ...                    NaN              0\n2  140926   12      ...                    NaN              0\n3   69375    2      ...                    NaN              0\n4  119166    9      ...                    NaN              0\n\n[5 rows x 8 columns]",
            "text/html": "<div>\n<style scoped>\n    .dataframe tbody tr th:only-of-type {\n        vertical-align: middle;\n    }\n\n    .dataframe tbody tr th {\n        vertical-align: top;\n    }\n\n    .dataframe thead th {\n        text-align: right;\n    }\n</style>\n<table border=\"1\" class=\"dataframe\">\n  <thead>\n    <tr style=\"text-align: right;\">\n      <th></th>\n      <th>ip</th>\n      <th>app</th>\n      <th>device</th>\n      <th>os</th>\n      <th>channel</th>\n      <th>click_time</th>\n      <th>attributed_time</th>\n      <th>is_attributed</th>\n    </tr>\n  </thead>\n  <tbody>\n    <tr>\n      <th>0</th>\n      <td>29540</td>\n      <td>3</td>\n      <td>1</td>\n      <td>42</td>\n      <td>489</td>\n      <td>2017-11-08 03:57:46</td>\n      <td>NaN</td>\n      <td>0</td>\n    </tr>\n    <tr>\n      <th>1</th>\n      <td>26777</td>\n      <td>11</td>\n      <td>1</td>\n      <td>25</td>\n      <td>319</td>\n      <td>2017-11-09 11:02:14</td>\n      <td>NaN</td>\n      <td>0</td>\n    </tr>\n    <tr>\n      <th>2</th>\n      <td>140926</td>\n      <td>12</td>\n      <td>1</td>\n      <td>13</td>\n      <td>140</td>\n      <td>2017-11-07 04:36:14</td>\n      <td>NaN</td>\n      <td>0</td>\n    </tr>\n    <tr>\n      <th>3</th>\n      <td>69375</td>\n      <td>2</td>\n      <td>1</td>\n      <td>19</td>\n      <td>377</td>\n      <td>2017-11-09 13:17:20</td>\n      <td>NaN</td>\n      <td>0</td>\n    </tr>\n    <tr>\n      <th>4</th>\n      <td>119166</td>\n      <td>9</td>\n      <td>2</td>\n      <td>15</td>\n      <td>445</td>\n      <td>2017-11-07 12:11:37</td>\n      <td>NaN</td>\n      <td>0</td>\n    </tr>\n  </tbody>\n</table>\n</div>"
          },
          "metadata": {}
        }
      ]
    },
    {
      "metadata": {
        "trusted": true,
        "_uuid": "bd4852d4f6b69db2e39166c47f038e41a41855c5"
      },
      "cell_type": "code",
      "source": "train.info()",
      "execution_count": 4,
      "outputs": [
        {
          "output_type": "stream",
          "text": "<class 'pandas.core.frame.DataFrame'>\nRangeIndex: 100000 entries, 0 to 99999\nData columns (total 8 columns):\nip                 100000 non-null uint32\napp                100000 non-null uint16\ndevice             100000 non-null uint16\nos                 100000 non-null uint16\nchannel            100000 non-null uint16\nclick_time         100000 non-null object\nattributed_time    251 non-null object\nis_attributed      100000 non-null uint8\ndtypes: object(2), uint16(4), uint32(1), uint8(1)\nmemory usage: 2.8+ MB\n",
          "name": "stdout"
        }
      ]
    },
    {
      "metadata": {
        "trusted": true,
        "_uuid": "da6527bcffc6df3c6ac6ebb839721f359f9e9f00"
      },
      "cell_type": "code",
      "source": "train.isnull().sum()  # 100000行样本，attributed_time几乎全部丢失了，故不用这列特征",
      "execution_count": 5,
      "outputs": [
        {
          "output_type": "execute_result",
          "execution_count": 5,
          "data": {
            "text/plain": "ip                     0\napp                    0\ndevice                 0\nos                     0\nchannel                0\nclick_time             0\nattributed_time    99749\nis_attributed          0\ndtype: int64"
          },
          "metadata": {}
        }
      ]
    },
    {
      "metadata": {
        "trusted": true,
        "_uuid": "b5f75b4742855ee1b89ff8c03da3f42554960b9b"
      },
      "cell_type": "code",
      "source": "#import featuretools as tf 自动特征提取以后熟悉了再用\n\n\ndel train  # 删除前面创建的test数据集\nimport gc\ngc.collect()",
      "execution_count": 6,
      "outputs": [
        {
          "output_type": "execute_result",
          "execution_count": 6,
          "data": {
            "text/plain": "18"
          },
          "metadata": {}
        }
      ]
    },
    {
      "metadata": {
        "trusted": true,
        "_uuid": "97651d2b31ffb4f1ceaa16421d67e00faeb7032d"
      },
      "cell_type": "code",
      "source": "#选择我们命名的列train_columns为特征列\ntrain = pd.read_csv(\"../input/train_sample.csv\",usecols=train_columns, dtype=dtypes)\ntrain.head()  # 比之前少了attributed_time这列特征",
      "execution_count": 7,
      "outputs": [
        {
          "output_type": "execute_result",
          "execution_count": 7,
          "data": {
            "text/plain": "       ip  app      ...                 click_time  is_attributed\n0   29540    3      ...        2017-11-08 03:57:46              0\n1   26777   11      ...        2017-11-09 11:02:14              0\n2  140926   12      ...        2017-11-07 04:36:14              0\n3   69375    2      ...        2017-11-09 13:17:20              0\n4  119166    9      ...        2017-11-07 12:11:37              0\n\n[5 rows x 7 columns]",
            "text/html": "<div>\n<style scoped>\n    .dataframe tbody tr th:only-of-type {\n        vertical-align: middle;\n    }\n\n    .dataframe tbody tr th {\n        vertical-align: top;\n    }\n\n    .dataframe thead th {\n        text-align: right;\n    }\n</style>\n<table border=\"1\" class=\"dataframe\">\n  <thead>\n    <tr style=\"text-align: right;\">\n      <th></th>\n      <th>ip</th>\n      <th>app</th>\n      <th>device</th>\n      <th>os</th>\n      <th>channel</th>\n      <th>click_time</th>\n      <th>is_attributed</th>\n    </tr>\n  </thead>\n  <tbody>\n    <tr>\n      <th>0</th>\n      <td>29540</td>\n      <td>3</td>\n      <td>1</td>\n      <td>42</td>\n      <td>489</td>\n      <td>2017-11-08 03:57:46</td>\n      <td>0</td>\n    </tr>\n    <tr>\n      <th>1</th>\n      <td>26777</td>\n      <td>11</td>\n      <td>1</td>\n      <td>25</td>\n      <td>319</td>\n      <td>2017-11-09 11:02:14</td>\n      <td>0</td>\n    </tr>\n    <tr>\n      <th>2</th>\n      <td>140926</td>\n      <td>12</td>\n      <td>1</td>\n      <td>13</td>\n      <td>140</td>\n      <td>2017-11-07 04:36:14</td>\n      <td>0</td>\n    </tr>\n    <tr>\n      <th>3</th>\n      <td>69375</td>\n      <td>2</td>\n      <td>1</td>\n      <td>19</td>\n      <td>377</td>\n      <td>2017-11-09 13:17:20</td>\n      <td>0</td>\n    </tr>\n    <tr>\n      <th>4</th>\n      <td>119166</td>\n      <td>9</td>\n      <td>2</td>\n      <td>15</td>\n      <td>445</td>\n      <td>2017-11-07 12:11:37</td>\n      <td>0</td>\n    </tr>\n  </tbody>\n</table>\n</div>"
          },
          "metadata": {}
        }
      ]
    },
    {
      "metadata": {
        "_uuid": "e38e12544cb9cf767a55fe4190d139e9d7b8a94c",
        "trusted": true
      },
      "cell_type": "code",
      "source": "\n# test = pd.read_csv(\"../input/test.csv\",dtype=dtypes)\n# test.head()   #内存瞬间上了1个多G\n\n# del test  # 删除前面创建的test数据集\n# import gc\n# gc.collect()",
      "execution_count": 8,
      "outputs": []
    },
    {
      "metadata": {
        "trusted": true,
        "_uuid": "c397eccd25b27892ed1cdb35e82338819713bae7"
      },
      "cell_type": "code",
      "source": "#用我们自己指定的特征，其实这个test数据集与上面注释掉的test没区别\ntest = pd.read_csv(\"../input/test.csv\",usecols=test_columns,dtype=dtypes)\ntest.head()",
      "execution_count": 9,
      "outputs": [
        {
          "output_type": "execute_result",
          "execution_count": 9,
          "data": {
            "text/plain": "   click_id      ip  app         ...           os  channel           click_time\n0         0    5744    9         ...            3      107  2017-11-10 04:00:00\n1         1  119901    9         ...            3      466  2017-11-10 04:00:00\n2         2   72287   21         ...           19      128  2017-11-10 04:00:00\n3         3   78477   15         ...           13      111  2017-11-10 04:00:00\n4         4  123080   12         ...           13      328  2017-11-10 04:00:00\n\n[5 rows x 7 columns]",
            "text/html": "<div>\n<style scoped>\n    .dataframe tbody tr th:only-of-type {\n        vertical-align: middle;\n    }\n\n    .dataframe tbody tr th {\n        vertical-align: top;\n    }\n\n    .dataframe thead th {\n        text-align: right;\n    }\n</style>\n<table border=\"1\" class=\"dataframe\">\n  <thead>\n    <tr style=\"text-align: right;\">\n      <th></th>\n      <th>click_id</th>\n      <th>ip</th>\n      <th>app</th>\n      <th>device</th>\n      <th>os</th>\n      <th>channel</th>\n      <th>click_time</th>\n    </tr>\n  </thead>\n  <tbody>\n    <tr>\n      <th>0</th>\n      <td>0</td>\n      <td>5744</td>\n      <td>9</td>\n      <td>1</td>\n      <td>3</td>\n      <td>107</td>\n      <td>2017-11-10 04:00:00</td>\n    </tr>\n    <tr>\n      <th>1</th>\n      <td>1</td>\n      <td>119901</td>\n      <td>9</td>\n      <td>1</td>\n      <td>3</td>\n      <td>466</td>\n      <td>2017-11-10 04:00:00</td>\n    </tr>\n    <tr>\n      <th>2</th>\n      <td>2</td>\n      <td>72287</td>\n      <td>21</td>\n      <td>1</td>\n      <td>19</td>\n      <td>128</td>\n      <td>2017-11-10 04:00:00</td>\n    </tr>\n    <tr>\n      <th>3</th>\n      <td>3</td>\n      <td>78477</td>\n      <td>15</td>\n      <td>1</td>\n      <td>13</td>\n      <td>111</td>\n      <td>2017-11-10 04:00:00</td>\n    </tr>\n    <tr>\n      <th>4</th>\n      <td>4</td>\n      <td>123080</td>\n      <td>12</td>\n      <td>1</td>\n      <td>13</td>\n      <td>328</td>\n      <td>2017-11-10 04:00:00</td>\n    </tr>\n  </tbody>\n</table>\n</div>"
          },
          "metadata": {}
        }
      ]
    },
    {
      "metadata": {
        "trusted": true,
        "_uuid": "1ff1db53d5a22482d8064cdb19d37bbd43537c73"
      },
      "cell_type": "code",
      "source": "\n# 给定数据集df，生成‘dow’和‘doy’特征后,删除'click_time', 'datetime'这两列特征,返回具有新特征的数据集df\ndef timeFeatures(df):\n    # Make some new features with click_time column\n    df['datetime'] = pd.to_datetime(df['click_time'])\n    df['dow']      = df['datetime'].dt.dayofweek\n    df[\"doy\"]      = df[\"datetime\"].dt.dayofyear\n    #df[\"dteom\"]    = df[\"datetime\"].dt.daysinmonth - df[\"datetime\"].dt.day\n    df.drop(['click_time', 'datetime'], axis=1, inplace=True)  # 生成‘dow’和‘doy’特征后，删除'click_time', 'datetime'这两列特征\n    return df  # 返回输入的数据集\n",
      "execution_count": 10,
      "outputs": []
    },
    {
      "metadata": {
        "trusted": true,
        "_uuid": "d81d66d048eac2ca27dfcf7ab9ceeba78fa9b324"
      },
      "cell_type": "code",
      "source": "train_for_fun = train.copy()\n\n# 测试例子1\ntimeFeatures(train_for_fun)\ntrain_for_fun.head()",
      "execution_count": 11,
      "outputs": [
        {
          "output_type": "execute_result",
          "execution_count": 11,
          "data": {
            "text/plain": "       ip  app  device  os  channel  is_attributed  dow  doy\n0   29540    3       1  42      489              0    2  312\n1   26777   11       1  25      319              0    3  313\n2  140926   12       1  13      140              0    1  311\n3   69375    2       1  19      377              0    3  313\n4  119166    9       2  15      445              0    1  311",
            "text/html": "<div>\n<style scoped>\n    .dataframe tbody tr th:only-of-type {\n        vertical-align: middle;\n    }\n\n    .dataframe tbody tr th {\n        vertical-align: top;\n    }\n\n    .dataframe thead th {\n        text-align: right;\n    }\n</style>\n<table border=\"1\" class=\"dataframe\">\n  <thead>\n    <tr style=\"text-align: right;\">\n      <th></th>\n      <th>ip</th>\n      <th>app</th>\n      <th>device</th>\n      <th>os</th>\n      <th>channel</th>\n      <th>is_attributed</th>\n      <th>dow</th>\n      <th>doy</th>\n    </tr>\n  </thead>\n  <tbody>\n    <tr>\n      <th>0</th>\n      <td>29540</td>\n      <td>3</td>\n      <td>1</td>\n      <td>42</td>\n      <td>489</td>\n      <td>0</td>\n      <td>2</td>\n      <td>312</td>\n    </tr>\n    <tr>\n      <th>1</th>\n      <td>26777</td>\n      <td>11</td>\n      <td>1</td>\n      <td>25</td>\n      <td>319</td>\n      <td>0</td>\n      <td>3</td>\n      <td>313</td>\n    </tr>\n    <tr>\n      <th>2</th>\n      <td>140926</td>\n      <td>12</td>\n      <td>1</td>\n      <td>13</td>\n      <td>140</td>\n      <td>0</td>\n      <td>1</td>\n      <td>311</td>\n    </tr>\n    <tr>\n      <th>3</th>\n      <td>69375</td>\n      <td>2</td>\n      <td>1</td>\n      <td>19</td>\n      <td>377</td>\n      <td>0</td>\n      <td>3</td>\n      <td>313</td>\n    </tr>\n    <tr>\n      <th>4</th>\n      <td>119166</td>\n      <td>9</td>\n      <td>2</td>\n      <td>15</td>\n      <td>445</td>\n      <td>0</td>\n      <td>1</td>\n      <td>311</td>\n    </tr>\n  </tbody>\n</table>\n</div>"
          },
          "metadata": {}
        }
      ]
    },
    {
      "metadata": {
        "trusted": true,
        "_uuid": "449cc6b347d212fb4fe774c98a51521ec176014e"
      },
      "cell_type": "code",
      "source": "# 测试例子2\ndef dataPreProcessTime(df):\n    df['click_time'] = pd.to_datetime(df['click_time']).dt.date\n    df['click_time'] = df['click_time'].apply(lambda x: x.strftime('%Y%m%d')).astype(int)\n    return df\ntrain_for_fun2 = train.copy()\ndataPreProcessTime(train_for_fun2)\ntrain_for_fun2.head()",
      "execution_count": 12,
      "outputs": [
        {
          "output_type": "execute_result",
          "execution_count": 12,
          "data": {
            "text/plain": "       ip  app  device  os  channel  click_time  is_attributed\n0   29540    3       1  42      489    20171108              0\n1   26777   11       1  25      319    20171109              0\n2  140926   12       1  13      140    20171107              0\n3   69375    2       1  19      377    20171109              0\n4  119166    9       2  15      445    20171107              0",
            "text/html": "<div>\n<style scoped>\n    .dataframe tbody tr th:only-of-type {\n        vertical-align: middle;\n    }\n\n    .dataframe tbody tr th {\n        vertical-align: top;\n    }\n\n    .dataframe thead th {\n        text-align: right;\n    }\n</style>\n<table border=\"1\" class=\"dataframe\">\n  <thead>\n    <tr style=\"text-align: right;\">\n      <th></th>\n      <th>ip</th>\n      <th>app</th>\n      <th>device</th>\n      <th>os</th>\n      <th>channel</th>\n      <th>click_time</th>\n      <th>is_attributed</th>\n    </tr>\n  </thead>\n  <tbody>\n    <tr>\n      <th>0</th>\n      <td>29540</td>\n      <td>3</td>\n      <td>1</td>\n      <td>42</td>\n      <td>489</td>\n      <td>20171108</td>\n      <td>0</td>\n    </tr>\n    <tr>\n      <th>1</th>\n      <td>26777</td>\n      <td>11</td>\n      <td>1</td>\n      <td>25</td>\n      <td>319</td>\n      <td>20171109</td>\n      <td>0</td>\n    </tr>\n    <tr>\n      <th>2</th>\n      <td>140926</td>\n      <td>12</td>\n      <td>1</td>\n      <td>13</td>\n      <td>140</td>\n      <td>20171107</td>\n      <td>0</td>\n    </tr>\n    <tr>\n      <th>3</th>\n      <td>69375</td>\n      <td>2</td>\n      <td>1</td>\n      <td>19</td>\n      <td>377</td>\n      <td>20171109</td>\n      <td>0</td>\n    </tr>\n    <tr>\n      <th>4</th>\n      <td>119166</td>\n      <td>9</td>\n      <td>2</td>\n      <td>15</td>\n      <td>445</td>\n      <td>20171107</td>\n      <td>0</td>\n    </tr>\n  </tbody>\n</table>\n</div>"
          },
          "metadata": {}
        }
      ]
    },
    {
      "metadata": {
        "trusted": true,
        "_uuid": "2869890b75f8ad7043abb8301206f3e526476e6c"
      },
      "cell_type": "code",
      "source": "train = dataPreProcessTime(train)\ntest = dataPreProcessTime(test)\ngc.collect()",
      "execution_count": 13,
      "outputs": [
        {
          "output_type": "execute_result",
          "execution_count": 13,
          "data": {
            "text/plain": "59"
          },
          "metadata": {}
        }
      ]
    },
    {
      "metadata": {
        "trusted": true,
        "_uuid": "c6fee883ee0cc99cfca00dcadd1209932597e89e"
      },
      "cell_type": "code",
      "source": "# Drop the IP and the columns from target\ny = train['is_attributed']\ntrain.drop(['is_attributed'], axis=1, inplace=True)",
      "execution_count": 14,
      "outputs": []
    },
    {
      "metadata": {
        "trusted": true,
        "_uuid": "492da43f22909a891441f07598dddfcfebe9854f"
      },
      "cell_type": "code",
      "source": "def timeFeatures(df):\n    # Make some new features with click_time column\n    df['datetime'] = pd.to_datetime(df['click_time'])\n    df['dow']      = df['datetime'].dt.dayofweek\n    df[\"doy\"]      = df[\"datetime\"].dt.dayofyear\n    #df[\"dteom\"]    = df[\"datetime\"].dt.daysinmonth - df[\"datetime\"].dt.day\n    df.drop(['click_time', 'datetime'], axis=1, inplace=True)\n    return df",
      "execution_count": 15,
      "outputs": []
    },
    {
      "metadata": {
        "trusted": true,
        "_uuid": "e736c56189d10c85b7bebea3fe6614e67c31d4b2"
      },
      "cell_type": "code",
      "source": "# Drop IP and ID from test rows\nsub = pd.DataFrame()\nsub['click_id'] = test['click_id'].astype('int')\ntest.drop(['click_id'], axis=1, inplace=True)\ngc.collect()",
      "execution_count": 16,
      "outputs": [
        {
          "output_type": "execute_result",
          "execution_count": 16,
          "data": {
            "text/plain": "21"
          },
          "metadata": {}
        }
      ]
    },
    {
      "metadata": {
        "trusted": true,
        "_uuid": "c2fec91d714be77fab102bef3f8e76c1de2d3b43"
      },
      "cell_type": "code",
      "source": "# Some feature engineering\nnrow_train = train.shape[0]\nmerge = pd.concat([train, test])\ndel train, test\ngc.collect()",
      "execution_count": 17,
      "outputs": [
        {
          "output_type": "execute_result",
          "execution_count": 17,
          "data": {
            "text/plain": "0"
          },
          "metadata": {}
        }
      ]
    },
    {
      "metadata": {
        "trusted": true,
        "_uuid": "8be82306b8f5799ee22790590e22e8f20e9a9c06"
      },
      "cell_type": "code",
      "source": "# Count the number of clicks by ip\nip_count = merge.groupby(['ip'])['app'].count().reset_index()\nip_count.columns = ['ip', 'clicks_by_ip']\nmerge = pd.merge(merge, ip_count, on='ip', how='left', sort=False)\nmerge['clicks_by_ip'] = merge['clicks_by_ip'].astype('uint16')\nmerge.drop('ip', axis=1, inplace=True)  #去掉ip特征值是由原因的，它的AUC贡献几乎没有\n# Pranav Kernel: https://www.kaggle.com/pranav84/xgboost-on-hist-mode-ip-addresses-dropped\n# Andy Kernel: https://www.kaggle.com/aharless/jo-o-s-xgboost-with-memory-usage-enhancements\n# https://www.kaggle.com/aharless/predicting-with-just-ip-ranges-as-coded 此时AUC才",
      "execution_count": 18,
      "outputs": []
    },
    {
      "metadata": {
        "trusted": true,
        "_uuid": "ba47dbf8890d7ffcd1ca32778f71b04c05c814f5"
      },
      "cell_type": "code",
      "source": "train = merge[:nrow_train]\ntest = merge[nrow_train:]",
      "execution_count": 19,
      "outputs": []
    },
    {
      "metadata": {
        "trusted": true,
        "_uuid": "616e5df1d64cc113e3ef0326f51e11e7071e1b2a"
      },
      "cell_type": "code",
      "source": "del merge\ngc.collect()",
      "execution_count": 20,
      "outputs": [
        {
          "output_type": "execute_result",
          "execution_count": 20,
          "data": {
            "text/plain": "42"
          },
          "metadata": {}
        }
      ]
    },
    {
      "metadata": {
        "trusted": true,
        "_uuid": "fb7d4782bcac63eb56472f9f1a48cf2299171108"
      },
      "cell_type": "code",
      "source": "",
      "execution_count": null,
      "outputs": []
    },
    {
      "metadata": {
        "trusted": true,
        "_uuid": "26fc259ab89dc5914aad8f650a0ed21615e0d94a"
      },
      "cell_type": "code",
      "source": "# Set the params(this params from Pranav kernel) for xgboost model\nparams = {'eta': 0.3,\n          'tree_method': \"hist\",\n          'grow_policy': \"lossguide\",\n          'max_leaves': 1400,  \n          'max_depth': 0, \n          'subsample': 0.9, \n          'colsample_bytree': 0.7, \n          'colsample_bylevel':0.7,\n          'min_child_weight':0,\n          'alpha':4,\n          'objective': 'binary:logistic', \n          'scale_pos_weight':9,\n          'eval_metric': 'auc', \n          'nthread':8,\n          'random_state': 99, \n          'silent': True}",
      "execution_count": 21,
      "outputs": []
    },
    {
      "metadata": {
        "trusted": true,
        "_uuid": "e9e34aa5ad6c60b87e9c7343e4bd4b1ab46bbf1a"
      },
      "cell_type": "code",
      "source": "# Change this for validation with 10% from train\nusing_test = True\n\nif (using_test == False):\n    # Get 10% of train dataset to use as validation\n    # 原始训练集 = 训练集 + 验证集\n    # 类似x1 = X_train, x2 = X_test, y1 = y_train, y2 = y_test\n    x1, x2, y1, y2 = train_test_split(train, y, test_size=0.1, shuffle=False)\n    del train, y\n    dtrain = xgb.DMatrix(x1, y1)\n    del x1, y1\n    dvalid = xgb.DMatrix(x2, y2)\n    del x2, y2 \n    watchlist = [(dtrain, 'train'), (dvalid, 'valid')]\n    earlystop = 20\n    nrounds = 300\n    verbose = 2\nelse:\n    dtrain = xgb.DMatrix(train, y)\n    del train, y\n    watchlist = [(dtrain, 'train')]\n    verbose = 1\n    earlystop = None\n    nrounds = 14\ngc.collect()\n\ndtest = xgb.DMatrix(test)\ndel test\ngc.collect()\n\nmodel = xgb.train(params, dtrain, nrounds, watchlist, maximize=True, \n                  early_stopping_rounds=earlystop, verbose_eval=verbose)\n\ndel dtrain\n",
      "execution_count": 22,
      "outputs": [
        {
          "output_type": "stream",
          "text": "[01:03:39] Tree method is selected to be 'hist', which uses a single updater grow_fast_histmaker.\n[0]\ttrain-auc:0.924801\n[1]\ttrain-auc:0.922497\n[2]\ttrain-auc:0.931988\n[3]\ttrain-auc:0.941509\n[4]\ttrain-auc:0.948939\n[5]\ttrain-auc:0.941742\n[6]\ttrain-auc:0.95212\n[7]\ttrain-auc:0.952433\n[8]\ttrain-auc:0.947973\n[9]\ttrain-auc:0.948529\n[10]\ttrain-auc:0.948172\n[11]\ttrain-auc:0.980696\n[12]\ttrain-auc:0.986234\n[13]\ttrain-auc:0.987095\n",
          "name": "stdout"
        }
      ]
    },
    {
      "metadata": {
        "trusted": true,
        "_uuid": "948c9e2c9ff35fbdd6b19ea6204f97e9bdd6af94"
      },
      "cell_type": "code",
      "source": "sub['is_attributed'] = model.predict(dtest, ntree_limit=model.best_ntree_limit)\n# sub.to_csv('xgb_sub_2.csv',index=False)",
      "execution_count": 23,
      "outputs": []
    },
    {
      "metadata": {
        "trusted": true,
        "_uuid": "3c34f1a8645c066db56bb4896b3579836c06241d"
      },
      "cell_type": "code",
      "source": "train = pd.read_csv(\"../input/train_sample.csv\",usecols=train_columns, dtype=dtypes)\ny = train['is_attributed']\ny.value_counts()",
      "execution_count": 27,
      "outputs": [
        {
          "output_type": "execute_result",
          "execution_count": 27,
          "data": {
            "text/plain": "0    99749\n1      251\nName: is_attributed, dtype: int64"
          },
          "metadata": {}
        }
      ]
    },
    {
      "metadata": {
        "trusted": true,
        "_uuid": "181ed63f62d137a1cd84e44ee56290b198f0570e"
      },
      "cell_type": "code",
      "source": "sub[sub.is_attributed == 0.008108175]",
      "execution_count": 37,
      "outputs": [
        {
          "output_type": "execute_result",
          "execution_count": 37,
          "data": {
            "text/plain": "          click_id  is_attributed\n2                2       0.008108\n87              87       0.008108\n1475          1473       0.008108\n1893          1893       0.008108\n2021          2021       0.008108\n2278          2278       0.008108\n3197          3197       0.008108\n3829          3828       0.008108\n4239          4239       0.008108\n4547          4547       0.008108\n4653          4653       0.008108\n4822          4822       0.008108\n4980          4979       0.008108\n6514          6514       0.008108\n6895          6895       0.008108\n7701          7699       0.008108\n8643          8645       0.008108\n9993          9993       0.008108\n10534        10534       0.008108\n11105        11105       0.008108\n12740        12740       0.008108\n13086        13087       0.008108\n13602        13602       0.008108\n14337        14337       0.008108\n14420        14421       0.008108\n14725        14724       0.008108\n14843        14843       0.008108\n15014        15015       0.008108\n15885        15885       0.008108\n16487        16487       0.008108\n...            ...            ...\n18779832  18779831       0.008108\n18780047  18780047       0.008108\n18780361  18780361       0.008108\n18780370  18780370       0.008108\n18780924  18780924       0.008108\n18781164  18781164       0.008108\n18782019  18782019       0.008108\n18782457  18782457       0.008108\n18783630  18783630       0.008108\n18784596  18784596       0.008108\n18784887  18784887       0.008108\n18785138  18785138       0.008108\n18785190  18785190       0.008108\n18785332  18785332       0.008108\n18785398  18785398       0.008108\n18785655  18785655       0.008108\n18785675  18785678       0.008108\n18786842  18786842       0.008108\n18787057  18787057       0.008108\n18787079  18787079       0.008108\n18787784  18787784       0.008108\n18788648  18788648       0.008108\n18788996  18788996       0.008108\n18789137  18789137       0.008108\n18789285  18789285       0.008108\n18789807  18789807       0.008108\n18790088  18790088       0.008108\n18790116  18790116       0.008108\n18790314  18790314       0.008108\n18790449  18790449       0.008108\n\n[38762 rows x 2 columns]",
            "text/html": "<div>\n<style scoped>\n    .dataframe tbody tr th:only-of-type {\n        vertical-align: middle;\n    }\n\n    .dataframe tbody tr th {\n        vertical-align: top;\n    }\n\n    .dataframe thead th {\n        text-align: right;\n    }\n</style>\n<table border=\"1\" class=\"dataframe\">\n  <thead>\n    <tr style=\"text-align: right;\">\n      <th></th>\n      <th>click_id</th>\n      <th>is_attributed</th>\n    </tr>\n  </thead>\n  <tbody>\n    <tr>\n      <th>2</th>\n      <td>2</td>\n      <td>0.008108</td>\n    </tr>\n    <tr>\n      <th>87</th>\n      <td>87</td>\n      <td>0.008108</td>\n    </tr>\n    <tr>\n      <th>1475</th>\n      <td>1473</td>\n      <td>0.008108</td>\n    </tr>\n    <tr>\n      <th>1893</th>\n      <td>1893</td>\n      <td>0.008108</td>\n    </tr>\n    <tr>\n      <th>2021</th>\n      <td>2021</td>\n      <td>0.008108</td>\n    </tr>\n    <tr>\n      <th>2278</th>\n      <td>2278</td>\n      <td>0.008108</td>\n    </tr>\n    <tr>\n      <th>3197</th>\n      <td>3197</td>\n      <td>0.008108</td>\n    </tr>\n    <tr>\n      <th>3829</th>\n      <td>3828</td>\n      <td>0.008108</td>\n    </tr>\n    <tr>\n      <th>4239</th>\n      <td>4239</td>\n      <td>0.008108</td>\n    </tr>\n    <tr>\n      <th>4547</th>\n      <td>4547</td>\n      <td>0.008108</td>\n    </tr>\n    <tr>\n      <th>4653</th>\n      <td>4653</td>\n      <td>0.008108</td>\n    </tr>\n    <tr>\n      <th>4822</th>\n      <td>4822</td>\n      <td>0.008108</td>\n    </tr>\n    <tr>\n      <th>4980</th>\n      <td>4979</td>\n      <td>0.008108</td>\n    </tr>\n    <tr>\n      <th>6514</th>\n      <td>6514</td>\n      <td>0.008108</td>\n    </tr>\n    <tr>\n      <th>6895</th>\n      <td>6895</td>\n      <td>0.008108</td>\n    </tr>\n    <tr>\n      <th>7701</th>\n      <td>7699</td>\n      <td>0.008108</td>\n    </tr>\n    <tr>\n      <th>8643</th>\n      <td>8645</td>\n      <td>0.008108</td>\n    </tr>\n    <tr>\n      <th>9993</th>\n      <td>9993</td>\n      <td>0.008108</td>\n    </tr>\n    <tr>\n      <th>10534</th>\n      <td>10534</td>\n      <td>0.008108</td>\n    </tr>\n    <tr>\n      <th>11105</th>\n      <td>11105</td>\n      <td>0.008108</td>\n    </tr>\n    <tr>\n      <th>12740</th>\n      <td>12740</td>\n      <td>0.008108</td>\n    </tr>\n    <tr>\n      <th>13086</th>\n      <td>13087</td>\n      <td>0.008108</td>\n    </tr>\n    <tr>\n      <th>13602</th>\n      <td>13602</td>\n      <td>0.008108</td>\n    </tr>\n    <tr>\n      <th>14337</th>\n      <td>14337</td>\n      <td>0.008108</td>\n    </tr>\n    <tr>\n      <th>14420</th>\n      <td>14421</td>\n      <td>0.008108</td>\n    </tr>\n    <tr>\n      <th>14725</th>\n      <td>14724</td>\n      <td>0.008108</td>\n    </tr>\n    <tr>\n      <th>14843</th>\n      <td>14843</td>\n      <td>0.008108</td>\n    </tr>\n    <tr>\n      <th>15014</th>\n      <td>15015</td>\n      <td>0.008108</td>\n    </tr>\n    <tr>\n      <th>15885</th>\n      <td>15885</td>\n      <td>0.008108</td>\n    </tr>\n    <tr>\n      <th>16487</th>\n      <td>16487</td>\n      <td>0.008108</td>\n    </tr>\n    <tr>\n      <th>...</th>\n      <td>...</td>\n      <td>...</td>\n    </tr>\n    <tr>\n      <th>18779832</th>\n      <td>18779831</td>\n      <td>0.008108</td>\n    </tr>\n    <tr>\n      <th>18780047</th>\n      <td>18780047</td>\n      <td>0.008108</td>\n    </tr>\n    <tr>\n      <th>18780361</th>\n      <td>18780361</td>\n      <td>0.008108</td>\n    </tr>\n    <tr>\n      <th>18780370</th>\n      <td>18780370</td>\n      <td>0.008108</td>\n    </tr>\n    <tr>\n      <th>18780924</th>\n      <td>18780924</td>\n      <td>0.008108</td>\n    </tr>\n    <tr>\n      <th>18781164</th>\n      <td>18781164</td>\n      <td>0.008108</td>\n    </tr>\n    <tr>\n      <th>18782019</th>\n      <td>18782019</td>\n      <td>0.008108</td>\n    </tr>\n    <tr>\n      <th>18782457</th>\n      <td>18782457</td>\n      <td>0.008108</td>\n    </tr>\n    <tr>\n      <th>18783630</th>\n      <td>18783630</td>\n      <td>0.008108</td>\n    </tr>\n    <tr>\n      <th>18784596</th>\n      <td>18784596</td>\n      <td>0.008108</td>\n    </tr>\n    <tr>\n      <th>18784887</th>\n      <td>18784887</td>\n      <td>0.008108</td>\n    </tr>\n    <tr>\n      <th>18785138</th>\n      <td>18785138</td>\n      <td>0.008108</td>\n    </tr>\n    <tr>\n      <th>18785190</th>\n      <td>18785190</td>\n      <td>0.008108</td>\n    </tr>\n    <tr>\n      <th>18785332</th>\n      <td>18785332</td>\n      <td>0.008108</td>\n    </tr>\n    <tr>\n      <th>18785398</th>\n      <td>18785398</td>\n      <td>0.008108</td>\n    </tr>\n    <tr>\n      <th>18785655</th>\n      <td>18785655</td>\n      <td>0.008108</td>\n    </tr>\n    <tr>\n      <th>18785675</th>\n      <td>18785678</td>\n      <td>0.008108</td>\n    </tr>\n    <tr>\n      <th>18786842</th>\n      <td>18786842</td>\n      <td>0.008108</td>\n    </tr>\n    <tr>\n      <th>18787057</th>\n      <td>18787057</td>\n      <td>0.008108</td>\n    </tr>\n    <tr>\n      <th>18787079</th>\n      <td>18787079</td>\n      <td>0.008108</td>\n    </tr>\n    <tr>\n      <th>18787784</th>\n      <td>18787784</td>\n      <td>0.008108</td>\n    </tr>\n    <tr>\n      <th>18788648</th>\n      <td>18788648</td>\n      <td>0.008108</td>\n    </tr>\n    <tr>\n      <th>18788996</th>\n      <td>18788996</td>\n      <td>0.008108</td>\n    </tr>\n    <tr>\n      <th>18789137</th>\n      <td>18789137</td>\n      <td>0.008108</td>\n    </tr>\n    <tr>\n      <th>18789285</th>\n      <td>18789285</td>\n      <td>0.008108</td>\n    </tr>\n    <tr>\n      <th>18789807</th>\n      <td>18789807</td>\n      <td>0.008108</td>\n    </tr>\n    <tr>\n      <th>18790088</th>\n      <td>18790088</td>\n      <td>0.008108</td>\n    </tr>\n    <tr>\n      <th>18790116</th>\n      <td>18790116</td>\n      <td>0.008108</td>\n    </tr>\n    <tr>\n      <th>18790314</th>\n      <td>18790314</td>\n      <td>0.008108</td>\n    </tr>\n    <tr>\n      <th>18790449</th>\n      <td>18790449</td>\n      <td>0.008108</td>\n    </tr>\n  </tbody>\n</table>\n<p>38762 rows × 2 columns</p>\n</div>"
          },
          "metadata": {}
        }
      ]
    },
    {
      "metadata": {
        "trusted": true,
        "_uuid": "0dcf3477b3d339631f3f2e6a36bf651d5fafd283"
      },
      "cell_type": "code",
      "source": "len(sub)",
      "execution_count": 38,
      "outputs": [
        {
          "output_type": "execute_result",
          "execution_count": 38,
          "data": {
            "text/plain": "18790469"
          },
          "metadata": {}
        }
      ]
    },
    {
      "metadata": {
        "trusted": true,
        "_uuid": "552ddcb58d7ced0897af66fc40bd1ea508d3b8f3"
      },
      "cell_type": "code",
      "source": "",
      "execution_count": null,
      "outputs": []
    }
  ],
  "metadata": {
    "kernelspec": {
      "display_name": "Python 3",
      "language": "python",
      "name": "python3"
    },
    "language_info": {
      "name": "python",
      "version": "3.6.6",
      "mimetype": "text/x-python",
      "codemirror_mode": {
        "name": "ipython",
        "version": 3
      },
      "pygments_lexer": "ipython3",
      "nbconvert_exporter": "python",
      "file_extension": ".py"
    }
  },
  "nbformat": 4,
  "nbformat_minor": 1
}